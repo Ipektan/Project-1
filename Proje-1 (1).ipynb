{
 "cells": [
  {
   "cell_type": "code",
   "execution_count": 2,
   "id": "8d6ec4a9",
   "metadata": {},
   "outputs": [],
   "source": [
    "import sys"
   ]
  },
  {
   "cell_type": "code",
   "execution_count": 3,
   "id": "42f744c5",
   "metadata": {},
   "outputs": [],
   "source": [
    "import pandas as pd\n",
    "import numpy as np\n",
    "import matplotlib.pyplot as plt\n",
    "import seaborn as sns"
   ]
  },
  {
   "cell_type": "code",
   "execution_count": 4,
   "id": "049a23ef",
   "metadata": {},
   "outputs": [
    {
     "data": {
      "text/html": [
       "<div>\n",
       "<style scoped>\n",
       "    .dataframe tbody tr th:only-of-type {\n",
       "        vertical-align: middle;\n",
       "    }\n",
       "\n",
       "    .dataframe tbody tr th {\n",
       "        vertical-align: top;\n",
       "    }\n",
       "\n",
       "    .dataframe thead th {\n",
       "        text-align: right;\n",
       "    }\n",
       "</style>\n",
       "<table border=\"1\" class=\"dataframe\">\n",
       "  <thead>\n",
       "    <tr style=\"text-align: right;\">\n",
       "      <th></th>\n",
       "      <th>date</th>\n",
       "      <th>customer_id</th>\n",
       "      <th>product_category</th>\n",
       "      <th>payment_method</th>\n",
       "      <th>value [USD]</th>\n",
       "      <th>time_on_site [Minutes]</th>\n",
       "      <th>clicks_in_site</th>\n",
       "      <th>Unnamed: 7</th>\n",
       "    </tr>\n",
       "  </thead>\n",
       "  <tbody>\n",
       "    <tr>\n",
       "      <th>0</th>\n",
       "      <td>20/11/2018</td>\n",
       "      <td>37077</td>\n",
       "      <td>505</td>\n",
       "      <td>credit</td>\n",
       "      <td>49.53</td>\n",
       "      <td>12.0</td>\n",
       "      <td>8</td>\n",
       "      <td>NaN</td>\n",
       "    </tr>\n",
       "    <tr>\n",
       "      <th>1</th>\n",
       "      <td>20/11/2018</td>\n",
       "      <td>59173</td>\n",
       "      <td>509</td>\n",
       "      <td>paypal</td>\n",
       "      <td>50.61</td>\n",
       "      <td>25.9</td>\n",
       "      <td>8</td>\n",
       "      <td>NaN</td>\n",
       "    </tr>\n",
       "    <tr>\n",
       "      <th>2</th>\n",
       "      <td>20/11/2018</td>\n",
       "      <td>41066</td>\n",
       "      <td>507</td>\n",
       "      <td>credit</td>\n",
       "      <td>85.99</td>\n",
       "      <td>34.9</td>\n",
       "      <td>11</td>\n",
       "      <td>NaN</td>\n",
       "    </tr>\n",
       "    <tr>\n",
       "      <th>3</th>\n",
       "      <td>20/11/2018</td>\n",
       "      <td>50741</td>\n",
       "      <td>506</td>\n",
       "      <td>credit</td>\n",
       "      <td>34.60</td>\n",
       "      <td>16.5</td>\n",
       "      <td>9</td>\n",
       "      <td>NaN</td>\n",
       "    </tr>\n",
       "    <tr>\n",
       "      <th>4</th>\n",
       "      <td>20/11/2018</td>\n",
       "      <td>53639</td>\n",
       "      <td>515</td>\n",
       "      <td>paypal</td>\n",
       "      <td>266.27</td>\n",
       "      <td>43.1</td>\n",
       "      <td>30</td>\n",
       "      <td>NaN</td>\n",
       "    </tr>\n",
       "    <tr>\n",
       "      <th>...</th>\n",
       "      <td>...</td>\n",
       "      <td>...</td>\n",
       "      <td>...</td>\n",
       "      <td>...</td>\n",
       "      <td>...</td>\n",
       "      <td>...</td>\n",
       "      <td>...</td>\n",
       "      <td>...</td>\n",
       "    </tr>\n",
       "    <tr>\n",
       "      <th>24994</th>\n",
       "      <td>29/11/2018</td>\n",
       "      <td>33699</td>\n",
       "      <td>513</td>\n",
       "      <td>credit</td>\n",
       "      <td>55.89</td>\n",
       "      <td>45.1</td>\n",
       "      <td>7</td>\n",
       "      <td>NaN</td>\n",
       "    </tr>\n",
       "    <tr>\n",
       "      <th>24995</th>\n",
       "      <td>29/11/2018</td>\n",
       "      <td>38652</td>\n",
       "      <td>501</td>\n",
       "      <td>paypal</td>\n",
       "      <td>136.27</td>\n",
       "      <td>61.0</td>\n",
       "      <td>11</td>\n",
       "      <td>NaN</td>\n",
       "    </tr>\n",
       "    <tr>\n",
       "      <th>24996</th>\n",
       "      <td>29/11/2018</td>\n",
       "      <td>30222</td>\n",
       "      <td>504</td>\n",
       "      <td>paypal</td>\n",
       "      <td>427.45</td>\n",
       "      <td>52.8</td>\n",
       "      <td>45</td>\n",
       "      <td>NaN</td>\n",
       "    </tr>\n",
       "    <tr>\n",
       "      <th>24997</th>\n",
       "      <td>29/11/2018</td>\n",
       "      <td>30183</td>\n",
       "      <td>507</td>\n",
       "      <td>credit</td>\n",
       "      <td>981.81</td>\n",
       "      <td>58.2</td>\n",
       "      <td>76</td>\n",
       "      <td>NaN</td>\n",
       "    </tr>\n",
       "    <tr>\n",
       "      <th>24998</th>\n",
       "      <td>29/11/2018</td>\n",
       "      <td>46662</td>\n",
       "      <td>505</td>\n",
       "      <td>credit</td>\n",
       "      <td>6.10</td>\n",
       "      <td>47.2</td>\n",
       "      <td>6</td>\n",
       "      <td>NaN</td>\n",
       "    </tr>\n",
       "  </tbody>\n",
       "</table>\n",
       "<p>24999 rows × 8 columns</p>\n",
       "</div>"
      ],
      "text/plain": [
       "             date  customer_id  product_category payment_method  value [USD]  \\\n",
       "0      20/11/2018        37077               505         credit        49.53   \n",
       "1      20/11/2018        59173               509         paypal        50.61   \n",
       "2      20/11/2018        41066               507         credit        85.99   \n",
       "3      20/11/2018        50741               506         credit        34.60   \n",
       "4      20/11/2018        53639               515         paypal       266.27   \n",
       "...           ...          ...               ...            ...          ...   \n",
       "24994  29/11/2018        33699               513         credit        55.89   \n",
       "24995  29/11/2018        38652               501         paypal       136.27   \n",
       "24996  29/11/2018        30222               504         paypal       427.45   \n",
       "24997  29/11/2018        30183               507         credit       981.81   \n",
       "24998  29/11/2018        46662               505         credit         6.10   \n",
       "\n",
       "       time_on_site [Minutes]  clicks_in_site  Unnamed: 7  \n",
       "0                        12.0               8         NaN  \n",
       "1                        25.9               8         NaN  \n",
       "2                        34.9              11         NaN  \n",
       "3                        16.5               9         NaN  \n",
       "4                        43.1              30         NaN  \n",
       "...                       ...             ...         ...  \n",
       "24994                    45.1               7         NaN  \n",
       "24995                    61.0              11         NaN  \n",
       "24996                    52.8              45         NaN  \n",
       "24997                    58.2              76         NaN  \n",
       "24998                    47.2               6         NaN  \n",
       "\n",
       "[24999 rows x 8 columns]"
      ]
     },
     "execution_count": 4,
     "metadata": {},
     "output_type": "execute_result"
    }
   ],
   "source": [
    "dd= pd.read_csv(r'C:\\Users\\ipekt\\Desktop\\purchase_data_exe.csv')\n",
    "dd"
   ]
  },
  {
   "cell_type": "code",
   "execution_count": 5,
   "id": "b88ce22f",
   "metadata": {},
   "outputs": [
    {
     "name": "stdout",
     "output_type": "stream",
     "text": [
      "<class 'pandas.core.frame.DataFrame'>\n",
      "RangeIndex: 24999 entries, 0 to 24998\n",
      "Data columns (total 8 columns):\n",
      " #   Column                  Non-Null Count  Dtype  \n",
      "---  ------                  --------------  -----  \n",
      " 0   date                    24999 non-null  object \n",
      " 1   customer_id             24999 non-null  int64  \n",
      " 2   product_category        24999 non-null  int64  \n",
      " 3   payment_method          24999 non-null  object \n",
      " 4   value [USD]             24999 non-null  float64\n",
      " 5   time_on_site [Minutes]  24999 non-null  float64\n",
      " 6   clicks_in_site          24999 non-null  int64  \n",
      " 7   Unnamed: 7              0 non-null      float64\n",
      "dtypes: float64(3), int64(3), object(2)\n",
      "memory usage: 1.5+ MB\n"
     ]
    }
   ],
   "source": [
    "dd.info()"
   ]
  },
  {
   "cell_type": "code",
   "execution_count": 6,
   "id": "777797c7",
   "metadata": {},
   "outputs": [
    {
     "data": {
      "text/plain": [
       "Unnamed: 7                24999\n",
       "date                          0\n",
       "customer_id                   0\n",
       "product_category              0\n",
       "payment_method                0\n",
       "value [USD]                   0\n",
       "time_on_site [Minutes]        0\n",
       "clicks_in_site                0\n",
       "dtype: int64"
      ]
     },
     "execution_count": 6,
     "metadata": {},
     "output_type": "execute_result"
    }
   ],
   "source": [
    "dd.isnull().sum().sort_values(ascending=False)"
   ]
  },
  {
   "cell_type": "code",
   "execution_count": 7,
   "id": "e88eb20b",
   "metadata": {},
   "outputs": [
    {
     "data": {
      "text/plain": [
       "Index(['date', 'customer_id', 'product_category', 'payment_method',\n",
       "       'value [USD]', 'time_on_site [Minutes]', 'clicks_in_site',\n",
       "       'Unnamed: 7'],\n",
       "      dtype='object')"
      ]
     },
     "execution_count": 7,
     "metadata": {},
     "output_type": "execute_result"
    }
   ],
   "source": [
    "dd.columns"
   ]
  },
  {
   "cell_type": "code",
   "execution_count": 8,
   "id": "dea22ffc",
   "metadata": {},
   "outputs": [
    {
     "data": {
      "text/html": [
       "<div>\n",
       "<style scoped>\n",
       "    .dataframe tbody tr th:only-of-type {\n",
       "        vertical-align: middle;\n",
       "    }\n",
       "\n",
       "    .dataframe tbody tr th {\n",
       "        vertical-align: top;\n",
       "    }\n",
       "\n",
       "    .dataframe thead th {\n",
       "        text-align: right;\n",
       "    }\n",
       "</style>\n",
       "<table border=\"1\" class=\"dataframe\">\n",
       "  <thead>\n",
       "    <tr style=\"text-align: right;\">\n",
       "      <th></th>\n",
       "      <th>date</th>\n",
       "      <th>customer_id</th>\n",
       "      <th>product_category</th>\n",
       "      <th>payment_method</th>\n",
       "      <th>price</th>\n",
       "      <th>Time_on_site</th>\n",
       "      <th>clicks_in_site</th>\n",
       "      <th>Unnamed: 7</th>\n",
       "    </tr>\n",
       "  </thead>\n",
       "  <tbody>\n",
       "    <tr>\n",
       "      <th>0</th>\n",
       "      <td>20/11/2018</td>\n",
       "      <td>37077</td>\n",
       "      <td>505</td>\n",
       "      <td>credit</td>\n",
       "      <td>49.53</td>\n",
       "      <td>12.0</td>\n",
       "      <td>8</td>\n",
       "      <td>NaN</td>\n",
       "    </tr>\n",
       "    <tr>\n",
       "      <th>1</th>\n",
       "      <td>20/11/2018</td>\n",
       "      <td>59173</td>\n",
       "      <td>509</td>\n",
       "      <td>paypal</td>\n",
       "      <td>50.61</td>\n",
       "      <td>25.9</td>\n",
       "      <td>8</td>\n",
       "      <td>NaN</td>\n",
       "    </tr>\n",
       "    <tr>\n",
       "      <th>2</th>\n",
       "      <td>20/11/2018</td>\n",
       "      <td>41066</td>\n",
       "      <td>507</td>\n",
       "      <td>credit</td>\n",
       "      <td>85.99</td>\n",
       "      <td>34.9</td>\n",
       "      <td>11</td>\n",
       "      <td>NaN</td>\n",
       "    </tr>\n",
       "    <tr>\n",
       "      <th>3</th>\n",
       "      <td>20/11/2018</td>\n",
       "      <td>50741</td>\n",
       "      <td>506</td>\n",
       "      <td>credit</td>\n",
       "      <td>34.60</td>\n",
       "      <td>16.5</td>\n",
       "      <td>9</td>\n",
       "      <td>NaN</td>\n",
       "    </tr>\n",
       "    <tr>\n",
       "      <th>4</th>\n",
       "      <td>20/11/2018</td>\n",
       "      <td>53639</td>\n",
       "      <td>515</td>\n",
       "      <td>paypal</td>\n",
       "      <td>266.27</td>\n",
       "      <td>43.1</td>\n",
       "      <td>30</td>\n",
       "      <td>NaN</td>\n",
       "    </tr>\n",
       "    <tr>\n",
       "      <th>...</th>\n",
       "      <td>...</td>\n",
       "      <td>...</td>\n",
       "      <td>...</td>\n",
       "      <td>...</td>\n",
       "      <td>...</td>\n",
       "      <td>...</td>\n",
       "      <td>...</td>\n",
       "      <td>...</td>\n",
       "    </tr>\n",
       "    <tr>\n",
       "      <th>24994</th>\n",
       "      <td>29/11/2018</td>\n",
       "      <td>33699</td>\n",
       "      <td>513</td>\n",
       "      <td>credit</td>\n",
       "      <td>55.89</td>\n",
       "      <td>45.1</td>\n",
       "      <td>7</td>\n",
       "      <td>NaN</td>\n",
       "    </tr>\n",
       "    <tr>\n",
       "      <th>24995</th>\n",
       "      <td>29/11/2018</td>\n",
       "      <td>38652</td>\n",
       "      <td>501</td>\n",
       "      <td>paypal</td>\n",
       "      <td>136.27</td>\n",
       "      <td>61.0</td>\n",
       "      <td>11</td>\n",
       "      <td>NaN</td>\n",
       "    </tr>\n",
       "    <tr>\n",
       "      <th>24996</th>\n",
       "      <td>29/11/2018</td>\n",
       "      <td>30222</td>\n",
       "      <td>504</td>\n",
       "      <td>paypal</td>\n",
       "      <td>427.45</td>\n",
       "      <td>52.8</td>\n",
       "      <td>45</td>\n",
       "      <td>NaN</td>\n",
       "    </tr>\n",
       "    <tr>\n",
       "      <th>24997</th>\n",
       "      <td>29/11/2018</td>\n",
       "      <td>30183</td>\n",
       "      <td>507</td>\n",
       "      <td>credit</td>\n",
       "      <td>981.81</td>\n",
       "      <td>58.2</td>\n",
       "      <td>76</td>\n",
       "      <td>NaN</td>\n",
       "    </tr>\n",
       "    <tr>\n",
       "      <th>24998</th>\n",
       "      <td>29/11/2018</td>\n",
       "      <td>46662</td>\n",
       "      <td>505</td>\n",
       "      <td>credit</td>\n",
       "      <td>6.10</td>\n",
       "      <td>47.2</td>\n",
       "      <td>6</td>\n",
       "      <td>NaN</td>\n",
       "    </tr>\n",
       "  </tbody>\n",
       "</table>\n",
       "<p>24999 rows × 8 columns</p>\n",
       "</div>"
      ],
      "text/plain": [
       "             date  customer_id  product_category payment_method   price  \\\n",
       "0      20/11/2018        37077               505         credit   49.53   \n",
       "1      20/11/2018        59173               509         paypal   50.61   \n",
       "2      20/11/2018        41066               507         credit   85.99   \n",
       "3      20/11/2018        50741               506         credit   34.60   \n",
       "4      20/11/2018        53639               515         paypal  266.27   \n",
       "...           ...          ...               ...            ...     ...   \n",
       "24994  29/11/2018        33699               513         credit   55.89   \n",
       "24995  29/11/2018        38652               501         paypal  136.27   \n",
       "24996  29/11/2018        30222               504         paypal  427.45   \n",
       "24997  29/11/2018        30183               507         credit  981.81   \n",
       "24998  29/11/2018        46662               505         credit    6.10   \n",
       "\n",
       "       Time_on_site  clicks_in_site  Unnamed: 7  \n",
       "0              12.0               8         NaN  \n",
       "1              25.9               8         NaN  \n",
       "2              34.9              11         NaN  \n",
       "3              16.5               9         NaN  \n",
       "4              43.1              30         NaN  \n",
       "...             ...             ...         ...  \n",
       "24994          45.1               7         NaN  \n",
       "24995          61.0              11         NaN  \n",
       "24996          52.8              45         NaN  \n",
       "24997          58.2              76         NaN  \n",
       "24998          47.2               6         NaN  \n",
       "\n",
       "[24999 rows x 8 columns]"
      ]
     },
     "execution_count": 8,
     "metadata": {},
     "output_type": "execute_result"
    }
   ],
   "source": [
    "dd.rename(columns={'value [USD]':'price','time_on_site [Minutes]': 'Time_on_site'},inplace=True)\n",
    "dd"
   ]
  },
  {
   "cell_type": "code",
   "execution_count": 9,
   "id": "b38f2274",
   "metadata": {},
   "outputs": [
    {
     "data": {
      "text/plain": [
       "date                 object\n",
       "customer_id           int64\n",
       "product_category      int64\n",
       "payment_method       object\n",
       "price               float64\n",
       "Time_on_site        float64\n",
       "clicks_in_site        int64\n",
       "Unnamed: 7          float64\n",
       "dtype: object"
      ]
     },
     "execution_count": 9,
     "metadata": {},
     "output_type": "execute_result"
    }
   ],
   "source": [
    "dd.dtypes"
   ]
  },
  {
   "cell_type": "code",
   "execution_count": 11,
   "id": "84ebcdb1",
   "metadata": {},
   "outputs": [
    {
     "data": {
      "text/plain": [
       "array([505, 509, 507, 506, 515, 501, 514, 512, 503, 510, 508, 511, 504,\n",
       "       513, 502], dtype=int64)"
      ]
     },
     "execution_count": 11,
     "metadata": {},
     "output_type": "execute_result"
    }
   ],
   "source": [
    "dd.product_category.unique()"
   ]
  },
  {
   "cell_type": "code",
   "execution_count": 12,
   "id": "6b3c2342",
   "metadata": {},
   "outputs": [
    {
     "data": {
      "text/plain": [
       "505    2103\n",
       "503    1713\n",
       "510    1680\n",
       "508    1675\n",
       "504    1647\n",
       "507    1639\n",
       "502    1630\n",
       "514    1625\n",
       "506    1624\n",
       "511    1623\n",
       "512    1618\n",
       "515    1611\n",
       "501    1606\n",
       "509    1603\n",
       "513    1602\n",
       "Name: product_category, dtype: int64"
      ]
     },
     "execution_count": 12,
     "metadata": {},
     "output_type": "execute_result"
    }
   ],
   "source": [
    "dd.product_category.value_counts()"
   ]
  },
  {
   "cell_type": "code",
   "execution_count": 13,
   "id": "f9d90757",
   "metadata": {},
   "outputs": [
    {
     "data": {
      "image/png": "[encoded data removed]",
      "text/plain": [
       "<Figure size 432x288 with 1 Axes>"
      ]
     },
     "metadata": {
      "needs_background": "light"
     },
     "output_type": "display_data"
    }
   ],
   "source": [
    "dd.product_category.value_counts().plot(kind=\"bar\")\n",
    "plt.title('Sales by Product Category');\n",
    "plt.xlabel('Product Category')\n",
    "plt.ylabel('Sales Amount',color='black');"
   ]
  },
  {
   "cell_type": "code",
   "execution_count": 14,
   "id": "08d2e080",
   "metadata": {},
   "outputs": [
    {
     "data": {
      "image/png": "[encoded data removed]",
      "text/plain": [
       "<Figure size 432x288 with 1 Axes>"
      ]
     },
     "metadata": {},
     "output_type": "display_data"
    }
   ],
   "source": [
    "new_x=dd.product_category.value_counts()\n",
    "plt.pie(new_x,labels=[\"505\",\"503\",\"510\",\"508\",\"504\",\"507\",\"502\",\"514\",\"506\",\"511\",\"512\",\"515\",\"501\",\"509\",\"513\"]);\n",
    "plt.title('Sales by Product Category');"
   ]
  },
  {
   "cell_type": "code",
   "execution_count": 15,
   "id": "a0f6119b",
   "metadata": {},
   "outputs": [
    {
     "data": {
      "text/html": [
       "<div>\n",
       "<style scoped>\n",
       "    .dataframe tbody tr th:only-of-type {\n",
       "        vertical-align: middle;\n",
       "    }\n",
       "\n",
       "    .dataframe tbody tr th {\n",
       "        vertical-align: top;\n",
       "    }\n",
       "\n",
       "    .dataframe thead th {\n",
       "        text-align: right;\n",
       "    }\n",
       "</style>\n",
       "<table border=\"1\" class=\"dataframe\">\n",
       "  <thead>\n",
       "    <tr style=\"text-align: right;\">\n",
       "      <th></th>\n",
       "      <th>Time_on_site</th>\n",
       "      <th>clicks_in_site</th>\n",
       "    </tr>\n",
       "    <tr>\n",
       "      <th>product_category</th>\n",
       "      <th></th>\n",
       "      <th></th>\n",
       "    </tr>\n",
       "  </thead>\n",
       "  <tbody>\n",
       "    <tr>\n",
       "      <th>501</th>\n",
       "      <td>123447.9</td>\n",
       "      <td>25664</td>\n",
       "    </tr>\n",
       "    <tr>\n",
       "      <th>502</th>\n",
       "      <td>119306.3</td>\n",
       "      <td>25695</td>\n",
       "    </tr>\n",
       "    <tr>\n",
       "      <th>503</th>\n",
       "      <td>137456.1</td>\n",
       "      <td>27005</td>\n",
       "    </tr>\n",
       "    <tr>\n",
       "      <th>504</th>\n",
       "      <td>117292.2</td>\n",
       "      <td>26013</td>\n",
       "    </tr>\n",
       "    <tr>\n",
       "      <th>505</th>\n",
       "      <td>126885.1</td>\n",
       "      <td>33779</td>\n",
       "    </tr>\n",
       "    <tr>\n",
       "      <th>506</th>\n",
       "      <td>125340.9</td>\n",
       "      <td>27129</td>\n",
       "    </tr>\n",
       "    <tr>\n",
       "      <th>507</th>\n",
       "      <td>122913.0</td>\n",
       "      <td>26840</td>\n",
       "    </tr>\n",
       "    <tr>\n",
       "      <th>508</th>\n",
       "      <td>122467.4</td>\n",
       "      <td>27232</td>\n",
       "    </tr>\n",
       "    <tr>\n",
       "      <th>509</th>\n",
       "      <td>112408.5</td>\n",
       "      <td>25491</td>\n",
       "    </tr>\n",
       "    <tr>\n",
       "      <th>510</th>\n",
       "      <td>126047.4</td>\n",
       "      <td>26985</td>\n",
       "    </tr>\n",
       "    <tr>\n",
       "      <th>511</th>\n",
       "      <td>121879.9</td>\n",
       "      <td>25447</td>\n",
       "    </tr>\n",
       "    <tr>\n",
       "      <th>512</th>\n",
       "      <td>125755.8</td>\n",
       "      <td>25614</td>\n",
       "    </tr>\n",
       "    <tr>\n",
       "      <th>513</th>\n",
       "      <td>117419.7</td>\n",
       "      <td>25550</td>\n",
       "    </tr>\n",
       "    <tr>\n",
       "      <th>514</th>\n",
       "      <td>116886.6</td>\n",
       "      <td>26212</td>\n",
       "    </tr>\n",
       "    <tr>\n",
       "      <th>515</th>\n",
       "      <td>112736.3</td>\n",
       "      <td>26319</td>\n",
       "    </tr>\n",
       "  </tbody>\n",
       "</table>\n",
       "</div>"
      ],
      "text/plain": [
       "                  Time_on_site  clicks_in_site\n",
       "product_category                              \n",
       "501                   123447.9           25664\n",
       "502                   119306.3           25695\n",
       "503                   137456.1           27005\n",
       "504                   117292.2           26013\n",
       "505                   126885.1           33779\n",
       "506                   125340.9           27129\n",
       "507                   122913.0           26840\n",
       "508                   122467.4           27232\n",
       "509                   112408.5           25491\n",
       "510                   126047.4           26985\n",
       "511                   121879.9           25447\n",
       "512                   125755.8           25614\n",
       "513                   117419.7           25550\n",
       "514                   116886.6           26212\n",
       "515                   112736.3           26319"
      ]
     },
     "execution_count": 15,
     "metadata": {},
     "output_type": "execute_result"
    }
   ],
   "source": [
    "Total=dd.groupby(\"product_category\").sum()\n",
    "Total[[\"Time_on_site\",\"clicks_in_site\"]]"
   ]
  },
  {
   "cell_type": "code",
   "execution_count": 16,
   "id": "29f19f49",
   "metadata": {},
   "outputs": [
    {
     "data": {
      "image/png": "[encoded data removed]",
      "text/plain": [
       "<Figure size 432x288 with 1 Axes>"
      ]
     },
     "metadata": {
      "needs_background": "light"
     },
     "output_type": "display_data"
    }
   ],
   "source": [
    "Total[\"price\"].plot(kind=\"bar\")\n",
    "plt.title('Amount of Earnings by Product Category');\n",
    "plt.xlabel('Product Category')\n",
    "plt.ylabel('Amount of Earning(USD)',color='black');"
   ]
  },
  {
   "cell_type": "code",
   "execution_count": 17,
   "id": "56ea66b5",
   "metadata": {},
   "outputs": [
    {
     "data": {
      "image/png": "[encoded data removed]",
      "text/plain": [
       "<Figure size 432x288 with 1 Axes>"
      ]
     },
     "metadata": {},
     "output_type": "display_data"
    }
   ],
   "source": [
    "new_x=Total[\"price\"]\n",
    "plt.pie(new_x,labels=[\"501\",\"502\",\"503\",\"504\",\"505\",\"506\",\"507\",\"508\",\"509\",\"510\",\"511\",\"512\",\"513\",\"514\",\"515\"]);\n",
    "plt.title('Amount of Earnings by Product Category');"
   ]
  },
  {
   "cell_type": "code",
   "execution_count": 24,
   "id": "3ca989f2",
   "metadata": {},
   "outputs": [
    {
     "data": {
      "image/png": "[encoded data removed]",
      "text/plain": [
       "<Figure size 432x288 with 1 Axes>"
      ]
     },
     "metadata": {
      "needs_background": "light"
     },
     "output_type": "display_data"
    }
   ],
   "source": [
    "Total[\"Time_on_site\"].plot()\n",
    "plt.title('Time on Site by Product Category');\n",
    "plt.xlabel('Product Category')\n",
    "plt.ylabel('Time on Site(minute)',fontsize = 10,color='black');"
   ]
  },
  {
   "cell_type": "code",
   "execution_count": 22,
   "id": "13de954a",
   "metadata": {},
   "outputs": [
    {
     "data": {
      "image/png": "[encoded data removed]",
      "text/plain": [
       "<Figure size 432x288 with 1 Axes>"
      ]
     },
     "metadata": {
      "needs_background": "light"
     },
     "output_type": "display_data"
    }
   ],
   "source": [
    "TT=dd.groupby(\"product_category\").mean()\n",
    "TT[\"Time_on_site\"].plot(kind=\"bar\")\n",
    "plt.title('Time on Site by Product Category');\n",
    "plt.xlabel('Product Category')\n",
    "plt.ylabel('Time on Site(minute)',fontsize = 10,color='black');"
   ]
  },
  {
   "cell_type": "code",
   "execution_count": 23,
   "id": "5294e84e",
   "metadata": {},
   "outputs": [
    {
     "data": {
      "image/png": "[encoded data removed]",
      "text/plain": [
       "<Figure size 432x288 with 1 Axes>"
      ]
     },
     "metadata": {
      "needs_background": "light"
     },
     "output_type": "display_data"
    }
   ],
   "source": [
    "Total[\"clicks_in_site\"].plot()\n",
    "plt.title('Clicks in Site by Product Category');\n",
    "plt.xlabel('Product Category')\n",
    "plt.ylabel('Clicks in Site',color='black');"
   ]
  },
  {
   "cell_type": "code",
   "execution_count": null,
   "id": "8f8c9af1",
   "metadata": {},
   "outputs": [],
   "source": []
  }
 ],
 "metadata": {
  "kernelspec": {
   "display_name": "Python 3",
   "language": "python",
   "name": "python3"
  },
  "language_info": {
   "codemirror_mode": {
    "name": "ipython",
    "version": 3
   },
   "file_extension": ".py",
   "mimetype": "text/x-python",
   "name": "python",
   "nbconvert_exporter": "python",
   "pygments_lexer": "ipython3",
   "version": "3.8.8"
  }
 },
 "nbformat": 4,
 "nbformat_minor": 5
}
